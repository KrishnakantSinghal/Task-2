{
 "cells": [
  {
   "cell_type": "markdown",
   "metadata": {},
   "source": [
    "# Name : Krishnakant Singhal\n",
    "## Data Science and Business Analytics Intern (The Sparks Foundation)\n",
    "\n",
    "### Task : Prediction using Decision Tree Algorithm (Level - Intermediate)"
   ]
  },
  {
   "cell_type": "markdown",
   "metadata": {},
   "source": [
    "### Imporing Essential Libraries"
   ]
  },
  {
   "cell_type": "code",
   "execution_count": 1,
   "metadata": {},
   "outputs": [],
   "source": [
    "import pandas as pd\n",
    "import numpy as np\n",
    "import matplotlib.pyplot as plt"
   ]
  },
  {
   "cell_type": "markdown",
   "metadata": {},
   "source": [
    "## Loading Dataset using Pandas read_csv Function"
   ]
  },
  {
   "cell_type": "code",
   "execution_count": 2,
   "metadata": {},
   "outputs": [
    {
     "data": {
      "text/html": [
       "<div>\n",
       "<style scoped>\n",
       "    .dataframe tbody tr th:only-of-type {\n",
       "        vertical-align: middle;\n",
       "    }\n",
       "\n",
       "    .dataframe tbody tr th {\n",
       "        vertical-align: top;\n",
       "    }\n",
       "\n",
       "    .dataframe thead th {\n",
       "        text-align: right;\n",
       "    }\n",
       "</style>\n",
       "<table border=\"1\" class=\"dataframe\">\n",
       "  <thead>\n",
       "    <tr style=\"text-align: right;\">\n",
       "      <th></th>\n",
       "      <th>Id</th>\n",
       "      <th>SepalLengthCm</th>\n",
       "      <th>SepalWidthCm</th>\n",
       "      <th>PetalLengthCm</th>\n",
       "      <th>PetalWidthCm</th>\n",
       "      <th>Species</th>\n",
       "    </tr>\n",
       "  </thead>\n",
       "  <tbody>\n",
       "    <tr>\n",
       "      <th>0</th>\n",
       "      <td>1</td>\n",
       "      <td>5.1</td>\n",
       "      <td>3.5</td>\n",
       "      <td>1.4</td>\n",
       "      <td>0.2</td>\n",
       "      <td>Iris-setosa</td>\n",
       "    </tr>\n",
       "    <tr>\n",
       "      <th>1</th>\n",
       "      <td>2</td>\n",
       "      <td>4.9</td>\n",
       "      <td>3.0</td>\n",
       "      <td>1.4</td>\n",
       "      <td>0.2</td>\n",
       "      <td>Iris-setosa</td>\n",
       "    </tr>\n",
       "    <tr>\n",
       "      <th>2</th>\n",
       "      <td>3</td>\n",
       "      <td>4.7</td>\n",
       "      <td>3.2</td>\n",
       "      <td>1.3</td>\n",
       "      <td>0.2</td>\n",
       "      <td>Iris-setosa</td>\n",
       "    </tr>\n",
       "    <tr>\n",
       "      <th>3</th>\n",
       "      <td>4</td>\n",
       "      <td>4.6</td>\n",
       "      <td>3.1</td>\n",
       "      <td>1.5</td>\n",
       "      <td>0.2</td>\n",
       "      <td>Iris-setosa</td>\n",
       "    </tr>\n",
       "    <tr>\n",
       "      <th>4</th>\n",
       "      <td>5</td>\n",
       "      <td>5.0</td>\n",
       "      <td>3.6</td>\n",
       "      <td>1.4</td>\n",
       "      <td>0.2</td>\n",
       "      <td>Iris-setosa</td>\n",
       "    </tr>\n",
       "  </tbody>\n",
       "</table>\n",
       "</div>"
      ],
      "text/plain": [
       "   Id  SepalLengthCm  SepalWidthCm  PetalLengthCm  PetalWidthCm      Species\n",
       "0   1            5.1           3.5            1.4           0.2  Iris-setosa\n",
       "1   2            4.9           3.0            1.4           0.2  Iris-setosa\n",
       "2   3            4.7           3.2            1.3           0.2  Iris-setosa\n",
       "3   4            4.6           3.1            1.5           0.2  Iris-setosa\n",
       "4   5            5.0           3.6            1.4           0.2  Iris-setosa"
      ]
     },
     "execution_count": 2,
     "metadata": {},
     "output_type": "execute_result"
    }
   ],
   "source": [
    "df = pd.read_csv(\"C:\\\\Users\\\\krishna\\\\machine learning projects\\\\Internship TSF\\\\Task 2\\\\Iris.csv\")\n",
    "df.head()"
   ]
  },
  {
   "cell_type": "markdown",
   "metadata": {},
   "source": [
    "### Checking wheather there is a nan value in dataset"
   ]
  },
  {
   "cell_type": "code",
   "execution_count": 3,
   "metadata": {},
   "outputs": [
    {
     "data": {
      "text/plain": [
       "Id               0\n",
       "SepalLengthCm    0\n",
       "SepalWidthCm     0\n",
       "PetalLengthCm    0\n",
       "PetalWidthCm     0\n",
       "Species          0\n",
       "dtype: int64"
      ]
     },
     "execution_count": 3,
     "metadata": {},
     "output_type": "execute_result"
    }
   ],
   "source": [
    "df.isnull().sum()"
   ]
  },
  {
   "cell_type": "markdown",
   "metadata": {},
   "source": [
    "### Checking the datatype of values in each row of dataframe"
   ]
  },
  {
   "cell_type": "code",
   "execution_count": 4,
   "metadata": {},
   "outputs": [
    {
     "data": {
      "text/plain": [
       "Id                 int64\n",
       "SepalLengthCm    float64\n",
       "SepalWidthCm     float64\n",
       "PetalLengthCm    float64\n",
       "PetalWidthCm     float64\n",
       "Species           object\n",
       "dtype: object"
      ]
     },
     "execution_count": 4,
     "metadata": {},
     "output_type": "execute_result"
    }
   ],
   "source": [
    "df.dtypes"
   ]
  },
  {
   "cell_type": "markdown",
   "metadata": {},
   "source": [
    "## Spliting Data into features and Target Values"
   ]
  },
  {
   "cell_type": "code",
   "execution_count": 5,
   "metadata": {},
   "outputs": [],
   "source": [
    "X = df.drop(['Id', 'Species'], axis = 1)\n",
    "y = df['Species']"
   ]
  },
  {
   "cell_type": "markdown",
   "metadata": {},
   "source": [
    "## Spliting Data into Training and Testing using sklearn train_test_split module"
   ]
  },
  {
   "cell_type": "code",
   "execution_count": 6,
   "metadata": {},
   "outputs": [
    {
     "name": "stdout",
     "output_type": "stream",
     "text": [
      "The shape of X_train:  (135, 4)\n",
      "The shape of X_test:  (15, 4)\n",
      "The shape of y_train:  (135,)\n",
      "The shape of y_test:  (15,)\n"
     ]
    }
   ],
   "source": [
    "from sklearn.model_selection import train_test_split\n",
    "\n",
    "X_train, X_test, y_train, y_test = train_test_split(X, y, test_size = 0.1, random_state = 53)\n",
    "\n",
    "print(\"The shape of X_train: \", X_train.shape)\n",
    "print(\"The shape of X_test: \", X_test.shape)\n",
    "print(\"The shape of y_train: \", y_train.shape)\n",
    "print(\"The shape of y_test: \", y_test.shape)"
   ]
  },
  {
   "cell_type": "markdown",
   "metadata": {},
   "source": [
    "### Checking the type of the splitted data"
   ]
  },
  {
   "cell_type": "code",
   "execution_count": 7,
   "metadata": {},
   "outputs": [
    {
     "data": {
      "text/plain": [
       "(pandas.core.frame.DataFrame,\n",
       " pandas.core.frame.DataFrame,\n",
       " pandas.core.series.Series,\n",
       " pandas.core.series.Series)"
      ]
     },
     "execution_count": 7,
     "metadata": {},
     "output_type": "execute_result"
    }
   ],
   "source": [
    "type(X_train), type(X_test), type(y_train), type(y_test)"
   ]
  },
  {
   "cell_type": "markdown",
   "metadata": {},
   "source": [
    "## Feature Scaling data using sklearn StandardScaler module"
   ]
  },
  {
   "cell_type": "code",
   "execution_count": 8,
   "metadata": {},
   "outputs": [],
   "source": [
    "from sklearn.preprocessing import StandardScaler\n",
    "\n",
    "sc = StandardScaler()\n",
    "sc.fit(X_train, X_test)\n",
    "X_train_sc = sc.transform(X_train)\n",
    "X_test_sc = sc.transform(X_test)"
   ]
  },
  {
   "cell_type": "code",
   "execution_count": 9,
   "metadata": {},
   "outputs": [
    {
     "data": {
      "text/plain": [
       "(array([[-0.40959573, -1.54300365, -0.01743847, -0.24713985],\n",
       "        [ 0.47010419, -2.00385651,  0.44191629,  0.41222536],\n",
       "        [ 0.47010419, -0.62129793,  0.61417433,  0.80784449],\n",
       "        [ 1.3498041 ,  0.30040779,  1.13094844,  1.46720971],\n",
       "        [-1.03795281,  0.53083422, -1.33808341, -1.3021242 ],\n",
       "        [ 0.09308994,  0.30040779,  0.61417433,  0.80784449],\n",
       "        [ 1.09846127,  0.53083422,  1.13094844,  1.20346362],\n",
       "        [-0.28392431, -0.3908715 , -0.07485781,  0.14847928],\n",
       "        [-0.78660998,  0.76126065, -1.33808341, -1.3021242 ],\n",
       "        [-0.03258148, -0.85172436,  0.09740022,  0.01660624],\n",
       "        [-0.91228139,  0.99168708, -1.33808341, -1.3021242 ],\n",
       "        [-1.16362422,  0.06998136, -1.28066406, -1.43399724],\n",
       "        [ 0.34443277, -0.62129793,  0.15481957,  0.14847928],\n",
       "        [-0.28392431, -0.62129793,  0.67159368,  1.07159058],\n",
       "        [-1.54063847,  0.06998136, -1.28066406, -1.3021242 ],\n",
       "        [ 0.5957756 ,  0.53083422,  1.30320647,  1.7309558 ],\n",
       "        [-0.03258148, -0.85172436,  0.21223891, -0.24713985],\n",
       "        [ 0.34443277, -0.16044507,  0.49933564,  0.28035232],\n",
       "        [ 1.47547552,  0.30040779,  0.55675499,  0.28035232],\n",
       "        [ 2.22950401, -0.16044507,  1.64772255,  1.20346362],\n",
       "        [ 1.22413268,  0.30040779,  1.24578713,  1.46720971],\n",
       "        [-0.28392431, -0.85172436,  0.26965826,  0.14847928],\n",
       "        [ 1.3498041 ,  0.06998136,  0.67159368,  0.41222536],\n",
       "        [ 0.47010419, -0.3908715 ,  0.3270776 ,  0.14847928],\n",
       "        [ 0.47010419,  0.76126065,  0.9586904 ,  1.46720971],\n",
       "        [ 0.5957756 , -1.31257722,  0.72901302,  0.93971754],\n",
       "        [-1.16362422, -0.16044507, -1.33808341, -1.3021242 ],\n",
       "        [-1.16362422, -1.54300365, -0.24711585, -0.24713985],\n",
       "        [ 1.3498041 ,  0.06998136,  0.9586904 ,  1.20346362],\n",
       "        [ 0.34443277, -1.08215079,  1.07352909,  0.28035232],\n",
       "        [-1.03795281, -2.46470937, -0.13227716, -0.24713985],\n",
       "        [-0.91228139,  1.68296637, -1.28066406, -1.17025115],\n",
       "        [-0.53526714, -0.16044507,  0.44191629,  0.41222536],\n",
       "        [ 0.21876135, -0.16044507,  0.61417433,  0.80784449],\n",
       "        [-1.79198131,  0.30040779, -1.39550275, -1.3021242 ],\n",
       "        [-1.28929564,  0.06998136, -1.22324472, -1.3021242 ],\n",
       "        [-0.53526714,  0.76126065, -1.16582537, -1.3021242 ],\n",
       "        [-1.03795281,  0.76126065, -1.22324472, -1.03837811],\n",
       "        [-1.16362422,  0.06998136, -1.28066406, -1.43399724],\n",
       "        [ 0.5957756 , -0.62129793,  0.78643237,  0.41222536],\n",
       "        [ 2.60651826,  1.68296637,  1.53288385,  1.07159058],\n",
       "        [ 0.34443277, -0.62129793,  0.55675499,  0.01660624],\n",
       "        [-0.53526714,  1.9133928 , -1.16582537, -1.03837811],\n",
       "        [-0.91228139,  0.76126065, -1.28066406, -1.3021242 ],\n",
       "        [ 0.09308994, -0.16044507,  0.78643237,  0.80784449],\n",
       "        [ 1.22413268, -0.16044507,  1.01610975,  1.20346362],\n",
       "        [-1.03795281,  1.22211351, -1.33808341, -1.3021242 ],\n",
       "        [-0.91228139,  1.68296637, -1.22324472, -1.3021242 ],\n",
       "        [ 0.72144702,  0.30040779,  0.90127106,  1.46720971],\n",
       "        [ 0.21876135, -2.00385651,  0.15481957, -0.24713985],\n",
       "        [-0.91228139, -1.31257722, -0.41937388, -0.11526681],\n",
       "        [-0.78660998,  2.37424566, -1.28066406, -1.43399724],\n",
       "        [ 0.5957756 ,  0.53083422,  0.55675499,  0.54409841],\n",
       "        [ 1.3498041 ,  0.06998136,  0.78643237,  1.46720971],\n",
       "        [ 0.21876135, -0.3908715 ,  0.44191629,  0.41222536],\n",
       "        [-0.53526714,  1.45253994, -1.28066406, -1.3021242 ],\n",
       "        [-1.91765272, -0.16044507, -1.51034145, -1.43399724],\n",
       "        [-0.40959573,  2.60467209, -1.33808341, -1.3021242 ],\n",
       "        [ 0.09308994, -0.16044507,  0.26965826,  0.41222536],\n",
       "        [ 0.84711844,  0.30040779,  0.78643237,  1.07159058],\n",
       "        [-0.40959573,  0.99168708, -1.39550275, -1.3021242 ],\n",
       "        [-0.91228139,  1.45253994, -1.28066406, -1.03837811],\n",
       "        [ 0.72144702, -0.85172436,  0.90127106,  0.93971754],\n",
       "        [-1.03795281,  0.76126065, -1.28066406, -1.3021242 ],\n",
       "        [ 1.72681835,  0.30040779,  1.30320647,  0.80784449],\n",
       "        [-0.91228139,  0.99168708, -1.33808341, -1.17025115],\n",
       "        [ 0.97278985, -0.16044507,  0.38449695,  0.28035232],\n",
       "        [-0.15825289, -1.08215079, -0.13227716, -0.24713985],\n",
       "        [ 1.97816118, -0.62129793,  1.36062582,  0.93971754],\n",
       "        [-0.15825289,  3.06552495, -1.28066406, -1.03837811],\n",
       "        [-0.15825289, -0.62129793,  0.44191629,  0.14847928],\n",
       "        [ 0.72144702,  0.30040779,  0.44191629,  0.41222536],\n",
       "        [ 0.21876135, -2.00385651,  0.72901302,  0.41222536],\n",
       "        [ 1.85248976, -0.3908715 ,  1.47546451,  0.80784449],\n",
       "        [ 0.5957756 , -1.77343008,  0.38449695,  0.14847928],\n",
       "        [ 1.72681835, -0.16044507,  1.18836778,  0.54409841],\n",
       "        [-0.03258148, -0.85172436,  0.78643237,  0.93971754],\n",
       "        [ 0.72144702, -0.62129793,  1.07352909,  1.20346362],\n",
       "        [-1.41496706,  0.30040779, -1.39550275, -1.3021242 ],\n",
       "        [ 1.09846127,  0.53083422,  1.13094844,  1.7309558 ],\n",
       "        [ 1.09846127, -0.16044507,  0.84385171,  1.46720971],\n",
       "        [ 1.60114693, -0.16044507,  1.24578713,  1.20346362],\n",
       "        [-1.03795281, -1.77343008, -0.24711585, -0.24713985],\n",
       "        [-1.03795281,  0.99168708, -1.22324472, -0.77463202],\n",
       "        [ 1.09846127,  0.06998136,  0.38449695,  0.28035232],\n",
       "        [ 0.84711844, -0.16044507,  1.18836778,  1.33533667],\n",
       "        [-1.03795281,  0.99168708, -1.39550275, -1.17025115],\n",
       "        [ 0.5957756 , -1.31257722,  0.67159368,  0.41222536],\n",
       "        [-0.15825289, -0.16044507,  0.26965826,  0.01660624],\n",
       "        [ 1.09846127, -0.16044507,  0.72901302,  0.67597145],\n",
       "        [-0.91228139,  1.68296637, -1.05098668, -1.03837811],\n",
       "        [ 0.84711844, -0.62129793,  0.49933564,  0.41222536],\n",
       "        [ 0.72144702, -0.62129793,  1.07352909,  1.33533667],\n",
       "        [ 0.5957756 , -0.3908715 ,  1.07352909,  0.80784449],\n",
       "        [-0.15825289, -1.31257722,  0.72901302,  1.07159058],\n",
       "        [-0.28392431, -1.31257722,  0.09740022, -0.11526681],\n",
       "        [ 0.84711844, -0.16044507,  0.84385171,  1.07159058],\n",
       "        [-0.03258148, -0.85172436,  0.78643237,  0.93971754],\n",
       "        [-0.15825289, -0.3908715 ,  0.26965826,  0.14847928],\n",
       "        [-1.28929564, -0.16044507, -1.33808341, -1.43399724],\n",
       "        [ 0.84711844, -0.16044507,  1.01610975,  0.80784449],\n",
       "        [-0.78660998, -0.85172436,  0.09740022,  0.28035232],\n",
       "        [ 0.21876135,  0.76126065,  0.44191629,  0.54409841],\n",
       "        [-0.15825289, -0.62129793,  0.21223891,  0.14847928],\n",
       "        [-0.03258148, -1.08215079,  0.15481957,  0.01660624],\n",
       "        [-0.53526714,  1.9133928 , -1.39550275, -1.03837811],\n",
       "        [-1.54063847,  0.30040779, -1.33808341, -1.3021242 ],\n",
       "        [-0.03258148, -0.62129793,  0.78643237,  1.59908275],\n",
       "        [-1.16362422, -1.31257722,  0.44191629,  0.67597145],\n",
       "        [-1.54063847,  1.22211351, -1.56776079, -1.3021242 ],\n",
       "        [-0.40959573, -1.54300365,  0.03998088, -0.11526681],\n",
       "        [ 1.22413268, -0.62129793,  0.61417433,  0.28035232],\n",
       "        [-0.03258148,  2.14381923, -1.4529221 , -1.3021242 ],\n",
       "        [-1.54063847,  0.76126065, -1.33808341, -1.17025115],\n",
       "        [-1.28929564,  0.76126065, -1.22324472, -1.3021242 ],\n",
       "        [ 0.5957756 ,  0.76126065,  1.07352909,  1.59908275],\n",
       "        [-1.28929564, -0.16044507, -1.33808341, -1.17025115],\n",
       "        [-1.16362422,  0.06998136, -1.28066406, -1.43399724],\n",
       "        [-0.78660998,  0.99168708, -1.28066406, -1.3021242 ],\n",
       "        [-0.40959573, -1.08215079,  0.38449695,  0.01660624],\n",
       "        [-1.79198131, -0.16044507, -1.39550275, -1.3021242 ],\n",
       "        [-1.03795281,  0.30040779, -1.4529221 , -1.3021242 ],\n",
       "        [-0.40959573, -1.31257722,  0.15481957,  0.14847928],\n",
       "        [ 2.35517543, -0.62129793,  1.70514189,  1.07159058],\n",
       "        [-0.15825289,  1.68296637, -1.16582537, -1.17025115],\n",
       "        [ 0.97278985, -0.3908715 ,  0.49933564,  0.14847928],\n",
       "        [ 0.72144702,  0.06998136,  1.01610975,  0.80784449],\n",
       "        [ 1.09846127,  0.06998136,  1.07352909,  1.59908275],\n",
       "        [-0.28392431, -0.16044507,  0.21223891,  0.14847928],\n",
       "        [-0.66093856,  1.45253994, -1.28066406, -1.3021242 ],\n",
       "        [ 0.34443277, -0.16044507,  0.67159368,  0.80784449],\n",
       "        [ 0.34443277, -0.3908715 ,  0.55675499,  0.28035232],\n",
       "        [ 2.35517543,  1.68296637,  1.70514189,  1.33533667],\n",
       "        [-1.41496706,  0.30040779, -1.22324472, -1.3021242 ],\n",
       "        [-1.03795281, -0.16044507, -1.22324472, -1.3021242 ]]),\n",
       " array([[-1.79198131, -0.3908715 , -1.33808341, -1.3021242 ],\n",
       "        [-0.91228139,  0.53083422, -1.16582537, -0.90650507],\n",
       "        [ 2.35517543, -1.08215079,  1.81998058,  1.46720971],\n",
       "        [-0.40959573, -1.77343008,  0.15481957,  0.14847928],\n",
       "        [ 1.09846127,  0.06998136,  0.55675499,  0.41222536],\n",
       "        [ 2.35517543, -0.16044507,  1.36062582,  1.46720971],\n",
       "        [ 0.5957756 , -0.85172436,  0.67159368,  0.80784449],\n",
       "        [-1.66630989, -1.77343008, -1.39550275, -1.17025115],\n",
       "        [-0.28392431, -0.16044507,  0.44191629,  0.41222536],\n",
       "        [ 1.09846127, -1.31257722,  1.18836778,  0.80784449],\n",
       "        [-0.53526714,  0.76126065, -1.28066406, -1.03837811],\n",
       "        [ 0.72144702, -0.3908715 ,  0.3270776 ,  0.14847928],\n",
       "        [ 0.21876135, -0.85172436,  0.78643237,  0.54409841],\n",
       "        [-1.28929564,  0.76126065, -1.05098668, -1.3021242 ],\n",
       "        [ 1.72681835,  1.22211351,  1.36062582,  1.7309558 ]]))"
      ]
     },
     "execution_count": 9,
     "metadata": {},
     "output_type": "execute_result"
    }
   ],
   "source": [
    "X_train_sc, X_test_sc"
   ]
  },
  {
   "cell_type": "markdown",
   "metadata": {},
   "source": [
    "## Applyig Decision Tree Classifier for pridiction with 'gini' criterion on non-feature scaled data"
   ]
  },
  {
   "cell_type": "code",
   "execution_count": 10,
   "metadata": {},
   "outputs": [
    {
     "data": {
      "text/plain": [
       "0.9333333333333333"
      ]
     },
     "execution_count": 10,
     "metadata": {},
     "output_type": "execute_result"
    }
   ],
   "source": [
    "from sklearn.tree import DecisionTreeClassifier\n",
    "\n",
    "dec_class_gini = DecisionTreeClassifier(criterion = 'gini')\n",
    "dec_class_gini.fit(X_train, y_train)\n",
    "dec_class_gini.score(X_test, y_test)"
   ]
  },
  {
   "cell_type": "markdown",
   "metadata": {},
   "source": [
    "## Applyig Decision Tree Classifier for pridiction with 'entropy' criterion on non feature scaled data"
   ]
  },
  {
   "cell_type": "code",
   "execution_count": 11,
   "metadata": {},
   "outputs": [
    {
     "data": {
      "text/plain": [
       "0.9333333333333333"
      ]
     },
     "execution_count": 11,
     "metadata": {},
     "output_type": "execute_result"
    }
   ],
   "source": [
    "dec_class_en = DecisionTreeClassifier(criterion = 'entropy')\n",
    "dec_class_en.fit(X_train, y_train)\n",
    "dec_class_en.score(X_test, y_test)"
   ]
  },
  {
   "cell_type": "markdown",
   "metadata": {},
   "source": [
    "## Applyig Decision Tree Classifier for pridiction with 'gini' criterion on feature scaled data"
   ]
  },
  {
   "cell_type": "code",
   "execution_count": 12,
   "metadata": {},
   "outputs": [
    {
     "data": {
      "text/plain": [
       "0.3333333333333333"
      ]
     },
     "execution_count": 12,
     "metadata": {},
     "output_type": "execute_result"
    }
   ],
   "source": [
    "dec_class_sc_gini = DecisionTreeClassifier(criterion = 'gini')\n",
    "dec_class_sc_gini.fit(X_train_sc, y_train)\n",
    "dec_class_sc_gini.score(X_test, y_test)"
   ]
  },
  {
   "cell_type": "markdown",
   "metadata": {},
   "source": [
    "## Applyig Decision Tree Classifier for pridiction with 'entropy' criterion on feature scaled data"
   ]
  },
  {
   "cell_type": "code",
   "execution_count": 13,
   "metadata": {},
   "outputs": [
    {
     "data": {
      "text/plain": [
       "0.3333333333333333"
      ]
     },
     "execution_count": 13,
     "metadata": {},
     "output_type": "execute_result"
    }
   ],
   "source": [
    "dec_class_sc_en = DecisionTreeClassifier(criterion = 'entropy')\n",
    "dec_class_sc_en.fit(X_train_sc, y_train)\n",
    "dec_class_sc_en.score(X_test, y_test)"
   ]
  },
  {
   "cell_type": "markdown",
   "metadata": {},
   "source": [
    "## We will take model of Classifier without feature scaled data and with entropy criterion because this is giving higher accuracy than other (93.33 %)"
   ]
  },
  {
   "cell_type": "markdown",
   "metadata": {},
   "source": [
    "## Predicting the value of Proper Class for Testing data"
   ]
  },
  {
   "cell_type": "code",
   "execution_count": 14,
   "metadata": {},
   "outputs": [
    {
     "data": {
      "text/plain": [
       "array(['Iris-setosa', 'Iris-setosa', 'Iris-virginica', 'Iris-versicolor',\n",
       "       'Iris-versicolor', 'Iris-virginica', 'Iris-virginica',\n",
       "       'Iris-setosa', 'Iris-versicolor', 'Iris-virginica', 'Iris-setosa',\n",
       "       'Iris-versicolor', 'Iris-virginica', 'Iris-setosa',\n",
       "       'Iris-virginica'], dtype=object)"
      ]
     },
     "execution_count": 14,
     "metadata": {},
     "output_type": "execute_result"
    }
   ],
   "source": [
    "dec_class_en.predict(X_test)"
   ]
  },
  {
   "cell_type": "code",
   "execution_count": null,
   "metadata": {},
   "outputs": [],
   "source": []
  }
 ],
 "metadata": {
  "kernelspec": {
   "display_name": "Python 3",
   "language": "python",
   "name": "python3"
  },
  "language_info": {
   "codemirror_mode": {
    "name": "ipython",
    "version": 3
   },
   "file_extension": ".py",
   "mimetype": "text/x-python",
   "name": "python",
   "nbconvert_exporter": "python",
   "pygments_lexer": "ipython3",
   "version": "3.8.5"
  }
 },
 "nbformat": 4,
 "nbformat_minor": 4
}
